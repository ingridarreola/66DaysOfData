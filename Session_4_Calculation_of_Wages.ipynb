{
  "nbformat": 4,
  "nbformat_minor": 0,
  "metadata": {
    "colab": {
      "name": "Session 4: Calculation of Wages (breakout room)",
      "provenance": [],
      "collapsed_sections": [],
      "include_colab_link": true
    },
    "kernelspec": {
      "name": "python3",
      "display_name": "Python 3"
    },
    "language_info": {
      "name": "python"
    }
  },
  "cells": [
    {
      "cell_type": "markdown",
      "metadata": {
        "id": "view-in-github",
        "colab_type": "text"
      },
      "source": [
        "<a href=\"https://colab.research.google.com/github/ingridarreola/66DaysOfData/blob/main/Session_4_Calculation_of_Wages.ipynb\" target=\"_parent\"><img src=\"https://colab.research.google.com/assets/colab-badge.svg\" alt=\"Open In Colab\"/></a>"
      ]
    },
    {
      "cell_type": "markdown",
      "metadata": {
        "id": "h5NjS8U2Vepr"
      },
      "source": [
        "Challenge 4:\n",
        "<p><i>Concepts tested: Writing text files, Variables</i>\n",
        "<p>The Payroll Department keeps a list of employee information for each pay period in a text file. \n",
        "\n",
        "Write a program that inputs the name of the employee, their hourly wage and hours worked. Write the information into a text file.\n",
        "\n",
        "The format of each line of the file is the following:\n",
        "\n",
        "[name][total paid in a month of 31 days]\n",
        "\n",
        "<p><b>Example</b>\n",
        "<p>Name: Tom Lee\n",
        "<p>Hourly Wage: $10\n",
        "<p>Hours worked per day: 10\n",
        "\n",
        "<p><b>In text file</b>\n",
        "<p>Tom Lee | $3100.0"
      ]
    },
    {
      "cell_type": "code",
      "metadata": {
        "id": "M30MLrJXVafb"
      },
      "source": [
        "from google.colab import drive\n",
        "drive.mount('/content/gdrive') #only necessary for those using google colab\n"
      ],
      "execution_count": null,
      "outputs": []
    },
    {
      "cell_type": "code",
      "metadata": {
        "id": "vP5dba96p2E7"
      },
      "source": [
        ""
      ],
      "execution_count": null,
      "outputs": []
    }
  ]
}